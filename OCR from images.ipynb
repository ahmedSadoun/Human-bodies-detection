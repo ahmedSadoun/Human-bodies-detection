{
 "cells": [
  {
   "cell_type": "code",
   "execution_count": 1,
   "metadata": {},
   "outputs": [
    {
     "name": "stdout",
     "output_type": "stream",
     "text": [
      "Collecting pytesseract\n",
      "  Downloading https://files.pythonhosted.org/packages/a3/c9/d6e8903482bd6fb994c32722831d15842dd8b614f94ad9ca735807252671/pytesseract-0.3.8.tar.gz\n",
      "Requirement already satisfied: Pillow in c:\\anaconda\\lib\\site-packages (from pytesseract) (6.1.0)\n",
      "Building wheels for collected packages: pytesseract\n",
      "  Building wheel for pytesseract (setup.py): started\n",
      "  Building wheel for pytesseract (setup.py): finished with status 'done'\n",
      "  Stored in directory: C:\\Users\\Ahmed Sa'doun\\AppData\\Local\\pip\\Cache\\wheels\\a2\\66\\45\\88bf1b2d428817a006944b9730b27d6861b776e05a9e262bd4\n",
      "Successfully built pytesseract\n",
      "Installing collected packages: pytesseract\n",
      "Successfully installed pytesseract-0.3.8\n"
     ]
    }
   ],
   "source": [
    "#C:\\Program Files\\Tesseract-OCR\n",
    "!pip install pytesseract"
   ]
  },
  {
   "cell_type": "code",
   "execution_count": 1,
   "metadata": {},
   "outputs": [],
   "source": [
    "import cv2\n",
    "import pytesseract"
   ]
  },
  {
   "cell_type": "code",
   "execution_count": 2,
   "metadata": {},
   "outputs": [],
   "source": [
    "pytesseract.pytesseract.tesseract_cmd=\"C:\\\\Program Files\\\\Tesseract-OCR\\\\tesseract.exe\""
   ]
  },
  {
   "cell_type": "code",
   "execution_count": null,
   "metadata": {},
   "outputs": [
    {
     "name": "stdout",
     "output_type": "stream",
     "text": [
      "Tile: E-commerce dataset\n",
      "\n",
      " \n",
      "\n",
      " \n",
      "\n",
      " \n",
      "\n",
      " \n",
      "\n",
      " \n",
      "\n",
      " \n",
      "\n",
      " \n",
      "\n",
      " \n",
      "\n",
      " \n",
      "\n",
      " \n",
      "\n",
      " \n",
      "\n",
      " \n",
      "\n",
      " \n",
      "\n",
      " \n",
      "\n",
      "—_~—r “Title: Min-price dataset _Title: Quality score dataset\n",
      "Date Fre) Features Price Quality score\n",
      "162018 m0 oo 5\n",
      "16.2018, aes | “| 4e2me | 270 tes 08S\n",
      "ry avo | p>[ 7208 | 19 er\n",
      "1-6-2018 175 2 (008\n",
      "1-6:2018 180 312-2018 190 (016\n",
      "172018 198 9B\n",
      "172018 193 Title: Maxprice Dataset ag 038\n",
      "a7.2018 205 Date Price aos (OS.\n",
      "172018 aio | >L_se2ois | 190 no 066\n",
      "1-7-2018 200 | *|_erzos | a0 200 vs\n",
      "waz2018 0 322018 20 1\n",
      "\n",
      " \n",
      "\n",
      " \n",
      "\n",
      " \n",
      "\n",
      " \n",
      "\n",
      " \n",
      "\n",
      " \n",
      "\n",
      " \n",
      "\n",
      "Fig.2. Method for transforming the second-hand ecommerce dataset of a specifi produet type into min price,\n",
      "‘max price, and quality score datasets\n",
      "\n",
      "datasets, respectively. Thus, we have two different time series problems, as illustrated in\n",
      "Fig. 2.\n",
      "\n",
      "Using these two time series datasets, we can forecast the price range for any product.\n",
      "Intuitively, the predicted price should be a scalar. Thus, we propose using the description and\n",
      "‘mage of the product to define the quality level of the predicted second-hand item. For the\n",
      "\n",
      "ime poi isassigned\n",
      "\n",
      "  \n",
      "\f",
      "\n"
     ]
    }
   ],
   "source": [
    "img=cv2.imread(\"C:\\\\Users\\\\Ahmed Sa'doun\\\\Desktop\\\\capture.png\")\n",
    "img=cv2.cvtColor(img,cv2.COLOR_BGR2RGB)\n",
    "hImg,wImg,_=img.shape\n",
    "print(pytesseract.image_to_string(img))\n",
    "boxes=pytesseract.image_to_boxes(img)\n",
    "for b in boxes.splitlines():\n",
    "    b=b.split(' ')\n",
    "    x,y,w,h=int(b[1]),int(b[2]),int(b[3]),int(b[4])\n",
    "    cv2.rectangle(img,(x,hImg-y),(w,hImg-h),(0,0,255),1)\n",
    "cv2.imshow('resutl',img)\n",
    "cv2.waitKey(0)"
   ]
  },
  {
   "cell_type": "code",
   "execution_count": null,
   "metadata": {},
   "outputs": [],
   "source": []
  }
 ],
 "metadata": {
  "kernelspec": {
   "display_name": "Python 3",
   "language": "python",
   "name": "python3"
  },
  "language_info": {
   "codemirror_mode": {
    "name": "ipython",
    "version": 3
   },
   "file_extension": ".py",
   "mimetype": "text/x-python",
   "name": "python",
   "nbconvert_exporter": "python",
   "pygments_lexer": "ipython3",
   "version": "3.7.3"
  }
 },
 "nbformat": 4,
 "nbformat_minor": 2
}
